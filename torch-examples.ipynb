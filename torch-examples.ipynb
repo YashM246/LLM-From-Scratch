{
 "cells": [
  {
   "cell_type": "code",
   "execution_count": 1,
   "id": "e74a9479-909e-48eb-b39c-a3533f1656db",
   "metadata": {},
   "outputs": [],
   "source": [
    "import torch\n",
    "import torch.nn as nn"
   ]
  },
  {
   "cell_type": "code",
   "execution_count": 2,
   "id": "ed50c293-4af7-4806-b6cb-ee17f555754a",
   "metadata": {},
   "outputs": [
    {
     "data": {
      "text/plain": [
       "tensor([ 37,  88,  81, -53,  88, -94])"
      ]
     },
     "execution_count": 2,
     "metadata": {},
     "output_type": "execute_result"
    }
   ],
   "source": [
    "randint = torch.randint(-100,100,(6,))\n",
    "randint"
   ]
  },
  {
   "cell_type": "markdown",
   "id": "87e3e063-8205-4bf2-ae74-14efe1a3cf09",
   "metadata": {},
   "source": [
    "<br>Making a tensor"
   ]
  },
  {
   "cell_type": "code",
   "execution_count": 3,
   "id": "f0b20ccb-4f10-4254-b504-e3da497b7919",
   "metadata": {},
   "outputs": [
    {
     "data": {
      "text/plain": [
       "tensor([[0.1000, 1.2000],\n",
       "        [2.2000, 0.2000],\n",
       "        [4.2000, 3.2000]])"
      ]
     },
     "execution_count": 3,
     "metadata": {},
     "output_type": "execute_result"
    }
   ],
   "source": [
    "tensor = torch.tensor([[0.1,1.2],[2.2,0.2],[4.2,3.2]])\n",
    "tensor"
   ]
  },
  {
   "cell_type": "code",
   "execution_count": 4,
   "id": "2f47e720-27f7-44ac-baff-8824c2b4a603",
   "metadata": {},
   "outputs": [
    {
     "data": {
      "text/plain": [
       "tensor([[0., 0., 0.],\n",
       "        [0., 0., 0.]])"
      ]
     },
     "execution_count": 4,
     "metadata": {},
     "output_type": "execute_result"
    }
   ],
   "source": [
    "zeros = torch.zeros(2,3)\n",
    "zeros"
   ]
  },
  {
   "cell_type": "code",
   "execution_count": 5,
   "id": "03f1874d-a7c6-47c8-8a51-a0604973e748",
   "metadata": {},
   "outputs": [
    {
     "data": {
      "text/plain": [
       "tensor([[1., 1.],\n",
       "        [1., 1.],\n",
       "        [1., 1.]])"
      ]
     },
     "execution_count": 5,
     "metadata": {},
     "output_type": "execute_result"
    }
   ],
   "source": [
    "ones = torch.ones(3,2)\n",
    "ones"
   ]
  },
  {
   "cell_type": "code",
   "execution_count": 6,
   "id": "d2914c1e-91fc-4066-b63a-65342ce9dd4d",
   "metadata": {},
   "outputs": [
    {
     "data": {
      "text/plain": [
       "tensor([[ 0.0000e+00,  0.0000e+00,  2.1019e-44],\n",
       "        [ 0.0000e+00, -8.7155e-05,  5.3810e-43]])"
      ]
     },
     "execution_count": 6,
     "metadata": {},
     "output_type": "execute_result"
    }
   ],
   "source": [
    "input = torch.empty(2,3)\n",
    "input"
   ]
  },
  {
   "cell_type": "code",
   "execution_count": 7,
   "id": "b88d92d4-ddc9-4428-81d3-d670fe4682e0",
   "metadata": {},
   "outputs": [
    {
     "data": {
      "text/plain": [
       "tensor([0, 1, 2, 3, 4])"
      ]
     },
     "execution_count": 7,
     "metadata": {},
     "output_type": "execute_result"
    }
   ],
   "source": [
    "arange = torch.arange(5)\n",
    "arange"
   ]
  },
  {
   "cell_type": "code",
   "execution_count": 8,
   "id": "98ba0cbe-15de-47b5-bdd7-78bd6aab6c52",
   "metadata": {},
   "outputs": [
    {
     "data": {
      "text/plain": [
       "tensor([ 3.0000,  4.7500,  6.5000,  8.2500, 10.0000])"
      ]
     },
     "execution_count": 8,
     "metadata": {},
     "output_type": "execute_result"
    }
   ],
   "source": [
    "linspace = torch.linspace(3,10,steps=5)\n",
    "linspace"
   ]
  },
  {
   "cell_type": "code",
   "execution_count": 9,
   "id": "237806ae-a728-401a-8ef2-3695b3478d5f",
   "metadata": {},
   "outputs": [
    {
     "data": {
      "text/plain": [
       "tensor([1.0000e+01, 1.7783e+03, 3.1623e+05, 5.6234e+07, 1.0000e+10])"
      ]
     },
     "execution_count": 9,
     "metadata": {},
     "output_type": "execute_result"
    }
   ],
   "source": [
    "logspace = torch.logspace(start=1, end=10, steps=5)\n",
    "logspace"
   ]
  },
  {
   "cell_type": "code",
   "execution_count": 10,
   "id": "88198b0e-6923-418b-a498-0add9eabef8a",
   "metadata": {},
   "outputs": [
    {
     "data": {
      "text/plain": [
       "tensor([[1., 0., 0., 0., 0.],\n",
       "        [0., 1., 0., 0., 0.],\n",
       "        [0., 0., 1., 0., 0.],\n",
       "        [0., 0., 0., 1., 0.],\n",
       "        [0., 0., 0., 0., 1.]])"
      ]
     },
     "execution_count": 10,
     "metadata": {},
     "output_type": "execute_result"
    }
   ],
   "source": [
    "eye = torch.eye(5)\n",
    "eye\n",
    "# Basically I"
   ]
  },
  {
   "cell_type": "markdown",
   "id": "e16242eb-4670-48bf-b362-ae183b5c8c4e",
   "metadata": {},
   "source": [
    "<br><br>Some Important Torch Functions"
   ]
  },
  {
   "cell_type": "code",
   "execution_count": 11,
   "id": "fa13d95b-b74d-4a44-947b-ade7ff1e9275",
   "metadata": {},
   "outputs": [],
   "source": [
    "import torch\n",
    "import numpy as np\n"
   ]
  },
  {
   "cell_type": "markdown",
   "id": "a4235d88-a8e6-4d8b-a6d8-bbc7f779d4c8",
   "metadata": {},
   "source": [
    "<br>\"torch.multinomial\""
   ]
  },
  {
   "cell_type": "code",
   "execution_count": 12,
   "id": "f94b1087-5642-4ba9-96e5-6143f649223b",
   "metadata": {},
   "outputs": [
    {
     "data": {
      "text/plain": [
       "tensor([1, 1, 1, 0, 0, 1, 0, 1, 1, 1])"
      ]
     },
     "execution_count": 12,
     "metadata": {},
     "output_type": "execute_result"
    }
   ],
   "source": [
    "# Define a probability tensor\n",
    "prob = torch.tensor([0.1,0.9])\n",
    "# 10% chance of 0\n",
    "# 90% chance of 1\n",
    "\n",
    "samples = torch.multinomial(prob, num_samples=10, replacement=True)\n",
    "samples"
   ]
  },
  {
   "cell_type": "markdown",
   "id": "5828d82d-bb6e-4749-b7d6-e5593914d2a9",
   "metadata": {},
   "source": [
    "<br>\"torch.cat\" --> concatenate"
   ]
  },
  {
   "cell_type": "code",
   "execution_count": 13,
   "id": "c297f0f0-c76e-4a90-af25-71c6e3e645c8",
   "metadata": {},
   "outputs": [
    {
     "data": {
      "text/plain": [
       "tensor([1, 2, 3, 4, 5])"
      ]
     },
     "execution_count": 13,
     "metadata": {},
     "output_type": "execute_result"
    }
   ],
   "source": [
    "tensor = torch.tensor([1,2,3])\n",
    "out = torch.cat((tensor,torch.tensor([4,5])), dim=0)\n",
    "out"
   ]
  },
  {
   "cell_type": "markdown",
   "id": "67a7e160-e288-4fa0-a765-e0174664cb20",
   "metadata": {},
   "source": [
    "<br>\n",
    "\"torch.tril\" lower triangle"
   ]
  },
  {
   "cell_type": "code",
   "execution_count": 14,
   "id": "a8d83cc1-1bec-447d-95a9-be43d98955e8",
   "metadata": {},
   "outputs": [
    {
     "data": {
      "text/plain": [
       "tensor([[1., 0., 0., 0., 0.],\n",
       "        [1., 1., 0., 0., 0.],\n",
       "        [1., 1., 1., 0., 0.],\n",
       "        [1., 1., 1., 1., 0.],\n",
       "        [1., 1., 1., 1., 1.]])"
      ]
     },
     "execution_count": 14,
     "metadata": {},
     "output_type": "execute_result"
    }
   ],
   "source": [
    "out = torch.tril(torch.ones(5,5))\n",
    "out"
   ]
  },
  {
   "cell_type": "markdown",
   "id": "372bbcc1-d56e-485e-8c6c-a2f63631a151",
   "metadata": {},
   "source": [
    "<br>\"torch.triu\" upper triangle"
   ]
  },
  {
   "cell_type": "code",
   "execution_count": 15,
   "id": "13ac0f12-dec9-4466-b8bf-1bf2fc493422",
   "metadata": {},
   "outputs": [
    {
     "data": {
      "text/plain": [
       "tensor([[1., 1., 1., 1., 1.],\n",
       "        [0., 1., 1., 1., 1.],\n",
       "        [0., 0., 1., 1., 1.],\n",
       "        [0., 0., 0., 1., 1.],\n",
       "        [0., 0., 0., 0., 1.]])"
      ]
     },
     "execution_count": 15,
     "metadata": {},
     "output_type": "execute_result"
    }
   ],
   "source": [
    "out = torch.triu(torch.ones(5,5))\n",
    "out"
   ]
  },
  {
   "cell_type": "markdown",
   "id": "35567278-4038-4f7d-966e-611cf83c75f2",
   "metadata": {},
   "source": [
    "<br>\" .masked_fill\" basically exponentiating"
   ]
  },
  {
   "cell_type": "code",
   "execution_count": 16,
   "id": "9981b83d-2320-47e2-9f1c-b84154c48ec2",
   "metadata": {},
   "outputs": [
    {
     "data": {
      "text/plain": [
       "tensor([[0., -inf, -inf, -inf, -inf],\n",
       "        [0., 0., -inf, -inf, -inf],\n",
       "        [0., 0., 0., -inf, -inf],\n",
       "        [0., 0., 0., 0., -inf],\n",
       "        [0., 0., 0., 0., 0.]])"
      ]
     },
     "execution_count": 16,
     "metadata": {},
     "output_type": "execute_result"
    }
   ],
   "source": [
    "out = torch.zeros(5,5).masked_fill(torch.tril(torch.ones(5,5))==0, float('-inf'))\n",
    "out"
   ]
  },
  {
   "cell_type": "code",
   "execution_count": 17,
   "id": "d632d5d1-feff-45a1-8ec2-1791483355f1",
   "metadata": {},
   "outputs": [
    {
     "data": {
      "text/plain": [
       "tensor([[1., 0., 0., 0., 0.],\n",
       "        [1., 1., 0., 0., 0.],\n",
       "        [1., 1., 1., 0., 0.],\n",
       "        [1., 1., 1., 1., 0.],\n",
       "        [1., 1., 1., 1., 1.]])"
      ]
     },
     "execution_count": 17,
     "metadata": {},
     "output_type": "execute_result"
    }
   ],
   "source": [
    "torch.exp(out) # e raised to"
   ]
  },
  {
   "cell_type": "markdown",
   "id": "8667954d-6fba-4315-9119-e40108cf13d3",
   "metadata": {},
   "source": [
    "<br>\"torch.transpose\""
   ]
  },
  {
   "cell_type": "code",
   "execution_count": 18,
   "id": "d8095e38-3aa3-4284-adb7-489efe823830",
   "metadata": {},
   "outputs": [
    {
     "data": {
      "text/plain": [
       "torch.Size([4, 3, 2])"
      ]
     },
     "execution_count": 18,
     "metadata": {},
     "output_type": "execute_result"
    }
   ],
   "source": [
    "inp = torch.zeros(2,3,4)\n",
    "out = inp.transpose(0,2)\n",
    "out.shape"
   ]
  },
  {
   "cell_type": "markdown",
   "id": "c588724c-4183-4564-b9bd-420db925e787",
   "metadata": {},
   "source": [
    "<br> \"torch.stack\""
   ]
  },
  {
   "cell_type": "code",
   "execution_count": 19,
   "id": "3e0aa8c4-cb20-43fb-9583-0725464df166",
   "metadata": {},
   "outputs": [
    {
     "data": {
      "text/plain": [
       "tensor([[1, 2, 3],\n",
       "        [4, 5, 6],\n",
       "        [7, 8, 9]])"
      ]
     },
     "execution_count": 19,
     "metadata": {},
     "output_type": "execute_result"
    }
   ],
   "source": [
    "tensor1 = torch.tensor([1,2,3])\n",
    "tensor2 = torch.tensor([4,5,6])\n",
    "tensor3 = torch.tensor([7,8,9])\n",
    "\n",
    "stacked = torch.stack([tensor1, tensor2, tensor3])\n",
    "stacked"
   ]
  },
  {
   "cell_type": "markdown",
   "id": "c8e63514-bf5d-4734-91a5-83a03788e85d",
   "metadata": {},
   "source": [
    "<br> nn module and nn.linear and nn.functional"
   ]
  },
  {
   "cell_type": "code",
   "execution_count": 20,
   "id": "163d8d31-fe53-47d6-b27a-0dc580882d3d",
   "metadata": {},
   "outputs": [
    {
     "name": "stdout",
     "output_type": "stream",
     "text": [
      "tensor([ 8.5219, -1.7987, -5.9876], grad_fn=<SqueezeBackward4>)\n"
     ]
    }
   ],
   "source": [
    "import torch.nn as nn\n",
    "sample = torch.tensor([19.,19.,10.])\n",
    "linear = nn.Linear(3,3,bias=False)\n",
    "print(linear(sample))"
   ]
  },
  {
   "cell_type": "code",
   "execution_count": 21,
   "id": "010d1e7a-8794-4754-9a6b-fe983a3fa2b7",
   "metadata": {},
   "outputs": [
    {
     "data": {
      "text/plain": [
       "tensor([0.0900, 0.2447, 0.6652])"
      ]
     },
     "execution_count": 21,
     "metadata": {},
     "output_type": "execute_result"
    }
   ],
   "source": [
    "import torch.nn.functional as F\n",
    "\n",
    "tensor1 = torch.tensor([1.0,2.0,3.0])\n",
    "\n",
    "softmax_op = F.softmax(tensor1, dim=0)\n",
    "softmax_op\n"
   ]
  },
  {
   "cell_type": "markdown",
   "id": "2cd5504a-941e-4c51-a516-3b25f850f547",
   "metadata": {},
   "source": [
    "<br>Creating an embedding layer"
   ]
  },
  {
   "cell_type": "code",
   "execution_count": 22,
   "id": "7d945d45-edde-4533-8fd3-7e090c940367",
   "metadata": {},
   "outputs": [
    {
     "name": "stdout",
     "output_type": "stream",
     "text": [
      "torch.Size([4, 100])\n"
     ]
    }
   ],
   "source": [
    "vocab_size = 1000\n",
    "embedding_dim = 100\n",
    "embedding = nn.Embedding(vocab_size, embedding_dim)\n",
    "\n",
    "input_indices = torch.LongTensor([1, 5, 3, 2])\n",
    "\n",
    "embedded_output = embedding(input_indices)\n",
    "\n",
    "print(embedded_output.shape)"
   ]
  },
  {
   "cell_type": "markdown",
   "id": "2741f238-8a58-48df-b92b-cb2c395ff2a8",
   "metadata": {},
   "source": [
    "<br>Matrix Multiplication"
   ]
  },
  {
   "cell_type": "code",
   "execution_count": 23,
   "id": "b2ceff92-0b91-404d-b066-408ce340dbcc",
   "metadata": {},
   "outputs": [
    {
     "name": "stdout",
     "output_type": "stream",
     "text": [
      "tensor([[ 27,  30,  33],\n",
      "        [ 61,  68,  75],\n",
      "        [ 95, 106, 117]])\n"
     ]
    }
   ],
   "source": [
    "a = torch.tensor([[1,2],[3,4],[5,6]])\n",
    "b = torch.tensor([[7,8,9],[10,11,12]])\n",
    "\n",
    "print(a @ b)"
   ]
  },
  {
   "cell_type": "code",
   "execution_count": 24,
   "id": "1bc2dfe7-b399-4115-aa30-58fbcbdce7e0",
   "metadata": {},
   "outputs": [
    {
     "name": "stdout",
     "output_type": "stream",
     "text": [
      "tensor([[ 27,  30,  33],\n",
      "        [ 61,  68,  75],\n",
      "        [ 95, 106, 117]])\n"
     ]
    }
   ],
   "source": [
    "print(torch.matmul(a,b))"
   ]
  },
  {
   "cell_type": "code",
   "execution_count": 25,
   "id": "0642a907-7827-4ff4-8a5a-34d7d0eb91ff",
   "metadata": {},
   "outputs": [
    {
     "ename": "RuntimeError",
     "evalue": "expected scalar type Long but found Float",
     "output_type": "error",
     "traceback": [
      "\u001b[1;31m---------------------------------------------------------------------------\u001b[0m",
      "\u001b[1;31mRuntimeError\u001b[0m                              Traceback (most recent call last)",
      "Cell \u001b[1;32mIn[25], line 6\u001b[0m\n\u001b[0;32m      3\u001b[0m int_64 \u001b[38;5;241m=\u001b[39m torch\u001b[38;5;241m.\u001b[39mrandint(\u001b[38;5;241m1\u001b[39m,(\u001b[38;5;241m3\u001b[39m,\u001b[38;5;241m2\u001b[39m))\n\u001b[0;32m      4\u001b[0m float_32 \u001b[38;5;241m=\u001b[39m torch\u001b[38;5;241m.\u001b[39mrand(\u001b[38;5;241m2\u001b[39m,\u001b[38;5;241m3\u001b[39m)\n\u001b[1;32m----> 6\u001b[0m result \u001b[38;5;241m=\u001b[39m \u001b[43mtorch\u001b[49m\u001b[38;5;241;43m.\u001b[39;49m\u001b[43mmatmul\u001b[49m\u001b[43m(\u001b[49m\u001b[43mint_64\u001b[49m\u001b[43m,\u001b[49m\u001b[43m \u001b[49m\u001b[43mfloat_32\u001b[49m\u001b[43m)\u001b[49m\n\u001b[0;32m      7\u001b[0m result\n",
      "\u001b[1;31mRuntimeError\u001b[0m: expected scalar type Long but found Float"
     ]
    }
   ],
   "source": [
    "# In Pytorch you cannot multiply different dtypes\n",
    "\n",
    "int_64 = torch.randint(1,(3,2))\n",
    "float_32 = torch.rand(2,3)\n",
    "\n",
    "result = torch.matmul(int_64, float_32)\n",
    "result"
   ]
  },
  {
   "cell_type": "code",
   "execution_count": 26,
   "id": "7efa4689-3dc6-4c85-abb6-c73351f44217",
   "metadata": {},
   "outputs": [
    {
     "name": "stdout",
     "output_type": "stream",
     "text": [
      "2 3 5\n",
      "torch.Size([2, 3, 5])\n"
     ]
    }
   ],
   "source": [
    "a = torch.rand(2,3,5)\n",
    "# Initialize a tensor of shape 2,3,5\n",
    "\n",
    "x, y, z = a.shape\n",
    "# Unpack those dimensions x=2, y=3, z=5\n",
    "\n",
    "a = a.view(x,y,z)\n",
    "# Remake the tensor with those dimensions\n",
    "\n",
    "print(x,y,z)\n",
    "print(a.shape)"
   ]
  },
  {
   "cell_type": "code",
   "execution_count": null,
   "id": "6a9d7e42-1002-4219-9aa7-5c1881a9c7b7",
   "metadata": {},
   "outputs": [],
   "source": []
  }
 ],
 "metadata": {
  "kernelspec": {
   "display_name": "CUDA-GPT",
   "language": "python",
   "name": "cuda"
  },
  "language_info": {
   "codemirror_mode": {
    "name": "ipython",
    "version": 3
   },
   "file_extension": ".py",
   "mimetype": "text/x-python",
   "name": "python",
   "nbconvert_exporter": "python",
   "pygments_lexer": "ipython3",
   "version": "3.11.2"
  }
 },
 "nbformat": 4,
 "nbformat_minor": 5
}
